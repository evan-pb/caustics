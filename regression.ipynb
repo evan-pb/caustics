{
 "cells": [
  {
   "cell_type": "code",
   "execution_count": 36,
   "metadata": {},
   "outputs": [
    {
     "data": {
      "text/plain": [
       "array([[-3.33066907e-16],\n",
       "       [ 0.00000000e+00],\n",
       "       [-5.55111512e-17],\n",
       "       [ 2.08166817e-17]])"
      ]
     },
     "execution_count": 36,
     "metadata": {},
     "output_type": "execute_result"
    }
   ],
   "source": [
    "import numpy as np\n",
    "import matplotlib.pyplot as plt\n",
    "import typing as T\n",
    "\n",
    "A = np.random.rand(4, 4)\n",
    "b = np.random.rand(4, 1)\n",
    "x = np.linalg.solve(A, b)\n",
    "A @ x - b\n"
   ]
  },
  {
   "cell_type": "code",
   "execution_count": 37,
   "metadata": {},
   "outputs": [
    {
     "data": {
      "text/plain": [
       "array([[-2.95758504],\n",
       "       [-2.21956417],\n",
       "       [ 0.89479933],\n",
       "       [ 2.28656502]])"
      ]
     },
     "execution_count": 37,
     "metadata": {},
     "output_type": "execute_result"
    }
   ],
   "source": [
    "x"
   ]
  },
  {
   "cell_type": "code",
   "execution_count": 38,
   "metadata": {},
   "outputs": [
    {
     "name": "stdout",
     "output_type": "stream",
     "text": [
      "[[4.1        9.42477796]\n",
      " [7.         1.        ]] \n",
      " [[12]\n",
      " [14]]\n"
     ]
    },
    {
     "data": {
      "text/plain": [
       "array([[1.93858432],\n",
       "       [0.42990979]])"
      ]
     },
     "execution_count": 38,
     "metadata": {},
     "output_type": "execute_result"
    }
   ],
   "source": [
    "# 4x1 + 3x2 = 10\n",
    "# 7x1 + x2 = 14\n",
    "A = np.array([[4.1, 3*np.pi], [7, 1]])\n",
    "b = np.array([[12], [14]])\n",
    "print(A, \"\\n\", b)\n",
    "x = np.linalg.solve(A, b)\n",
    "A @ x\n",
    "x"
   ]
  },
  {
   "cell_type": "code",
   "execution_count": 39,
   "metadata": {},
   "outputs": [],
   "source": [
    "def make_vandermonde(x):\n",
    "    N = len(x)\n",
    "    A = np.ones([N, 3])  # Make a matrix with N number of rows and 3 columns\n",
    "    A[:,1] = x  # Second column is coefficients of x\n",
    "    A[:,2] = x ** 2\n",
    "    return A"
   ]
  },
  {
   "cell_type": "code",
   "execution_count": 40,
   "metadata": {},
   "outputs": [
    {
     "data": {
      "text/plain": [
       "array([[1.00000000e+00, 9.27576148e-02, 8.60397510e-03],\n",
       "       [1.00000000e+00, 6.60969187e-02, 4.36880266e-03],\n",
       "       [1.00000000e+00, 3.49848504e-01, 1.22393976e-01],\n",
       "       [1.00000000e+00, 4.34532040e-01, 1.88818094e-01],\n",
       "       [1.00000000e+00, 9.17955006e-03, 8.42641392e-05],\n",
       "       [1.00000000e+00, 2.22311871e-02, 4.94225681e-04],\n",
       "       [1.00000000e+00, 3.03888210e-01, 9.23480444e-02],\n",
       "       [1.00000000e+00, 3.89914601e-01, 1.52033396e-01],\n",
       "       [1.00000000e+00, 3.31169073e-01, 1.09672955e-01],\n",
       "       [1.00000000e+00, 2.86004746e-01, 8.17987149e-02],\n",
       "       [1.00000000e+00, 2.87136663e-02, 8.24474634e-04],\n",
       "       [1.00000000e+00, 8.79603386e-02, 7.73702117e-03],\n",
       "       [1.00000000e+00, 8.36835740e-01, 7.00294056e-01],\n",
       "       [1.00000000e+00, 9.41569876e-01, 8.86553832e-01],\n",
       "       [1.00000000e+00, 2.13427973e-01, 4.55514997e-02],\n",
       "       [1.00000000e+00, 5.45820534e-01, 2.97920055e-01],\n",
       "       [1.00000000e+00, 3.30614733e-02, 1.09306102e-03],\n",
       "       [1.00000000e+00, 9.05335981e-01, 8.19633239e-01],\n",
       "       [1.00000000e+00, 4.92904765e-01, 2.42955108e-01],\n",
       "       [1.00000000e+00, 7.35069482e-01, 5.40327144e-01],\n",
       "       [1.00000000e+00, 3.77933559e-01, 1.42833775e-01],\n",
       "       [1.00000000e+00, 7.26154548e-01, 5.27300427e-01],\n",
       "       [1.00000000e+00, 1.33708583e-01, 1.78779851e-02],\n",
       "       [1.00000000e+00, 6.06684100e-01, 3.68065597e-01],\n",
       "       [1.00000000e+00, 8.99582567e-01, 8.09248795e-01],\n",
       "       [1.00000000e+00, 7.78879783e-01, 6.06653717e-01],\n",
       "       [1.00000000e+00, 2.28458403e-01, 5.21932420e-02],\n",
       "       [1.00000000e+00, 1.69205956e-01, 2.86306557e-02],\n",
       "       [1.00000000e+00, 9.34505626e-01, 8.73300766e-01],\n",
       "       [1.00000000e+00, 4.58379806e-01, 2.10112046e-01],\n",
       "       [1.00000000e+00, 5.29846549e-01, 2.80737366e-01],\n",
       "       [1.00000000e+00, 3.28973556e-01, 1.08223601e-01],\n",
       "       [1.00000000e+00, 7.25797923e-01, 5.26782625e-01],\n",
       "       [1.00000000e+00, 8.36179095e-01, 6.99195479e-01],\n",
       "       [1.00000000e+00, 8.93850054e-01, 7.98967920e-01],\n",
       "       [1.00000000e+00, 1.31367812e-01, 1.72575019e-02],\n",
       "       [1.00000000e+00, 9.33706284e-01, 8.71807425e-01],\n",
       "       [1.00000000e+00, 1.75577612e-01, 3.08274979e-02],\n",
       "       [1.00000000e+00, 1.98865338e-02, 3.95474226e-04],\n",
       "       [1.00000000e+00, 8.09616303e-01, 6.55478558e-01],\n",
       "       [1.00000000e+00, 8.38467703e-01, 7.03028089e-01],\n",
       "       [1.00000000e+00, 4.01182101e-02, 1.60947078e-03],\n",
       "       [1.00000000e+00, 6.30485703e-02, 3.97512222e-03],\n",
       "       [1.00000000e+00, 5.42196843e-03, 2.93977416e-05],\n",
       "       [1.00000000e+00, 6.02629464e-01, 3.63162271e-01],\n",
       "       [1.00000000e+00, 2.62432835e-01, 6.88709930e-02],\n",
       "       [1.00000000e+00, 5.39721427e-01, 2.91299219e-01],\n",
       "       [1.00000000e+00, 6.19454375e-01, 3.83723723e-01],\n",
       "       [1.00000000e+00, 1.77069058e-01, 3.13534514e-02],\n",
       "       [1.00000000e+00, 3.19697339e-02, 1.02206389e-03],\n",
       "       [1.00000000e+00, 1.31048667e-01, 1.71737531e-02],\n",
       "       [1.00000000e+00, 8.34781258e-01, 6.96859750e-01],\n",
       "       [1.00000000e+00, 7.13143319e-01, 5.08573393e-01],\n",
       "       [1.00000000e+00, 3.53034130e-02, 1.24633097e-03],\n",
       "       [1.00000000e+00, 2.43195943e-01, 5.91442668e-02],\n",
       "       [1.00000000e+00, 7.60919816e-01, 5.78998967e-01],\n",
       "       [1.00000000e+00, 5.19083806e-01, 2.69447998e-01],\n",
       "       [1.00000000e+00, 8.30084115e-01, 6.89039639e-01],\n",
       "       [1.00000000e+00, 7.02617593e-01, 4.93671483e-01],\n",
       "       [1.00000000e+00, 1.92984069e-01, 3.72428508e-02],\n",
       "       [1.00000000e+00, 6.95310501e-01, 4.83456693e-01],\n",
       "       [1.00000000e+00, 2.64312493e-01, 6.98610939e-02],\n",
       "       [1.00000000e+00, 4.44346436e-01, 1.97443756e-01],\n",
       "       [1.00000000e+00, 7.57636515e-02, 5.74013089e-03],\n",
       "       [1.00000000e+00, 7.37859969e-01, 5.44437334e-01],\n",
       "       [1.00000000e+00, 2.67911696e-01, 7.17766770e-02],\n",
       "       [1.00000000e+00, 2.70941149e-01, 7.34091064e-02],\n",
       "       [1.00000000e+00, 4.95622541e-01, 2.45641703e-01],\n",
       "       [1.00000000e+00, 6.94060873e-02, 4.81720496e-03],\n",
       "       [1.00000000e+00, 6.10861101e-01, 3.73151285e-01],\n",
       "       [1.00000000e+00, 2.97104141e-01, 8.82708703e-02],\n",
       "       [1.00000000e+00, 9.40791004e-01, 8.85087713e-01],\n",
       "       [1.00000000e+00, 4.86082469e-01, 2.36276167e-01],\n",
       "       [1.00000000e+00, 4.91061077e-01, 2.41140981e-01],\n",
       "       [1.00000000e+00, 2.92787322e-01, 8.57244161e-02],\n",
       "       [1.00000000e+00, 5.58057231e-01, 3.11427873e-01],\n",
       "       [1.00000000e+00, 3.30398914e-01, 1.09163442e-01],\n",
       "       [1.00000000e+00, 7.33515586e-01, 5.38045115e-01],\n",
       "       [1.00000000e+00, 8.80383776e-01, 7.75075593e-01],\n",
       "       [1.00000000e+00, 5.81309884e-01, 3.37921181e-01],\n",
       "       [1.00000000e+00, 7.65812633e-01, 5.86468989e-01],\n",
       "       [1.00000000e+00, 9.66665924e-01, 9.34443009e-01],\n",
       "       [1.00000000e+00, 4.97888743e-01, 2.47893201e-01],\n",
       "       [1.00000000e+00, 1.05998132e-01, 1.12356039e-02],\n",
       "       [1.00000000e+00, 4.62123522e-01, 2.13558149e-01],\n",
       "       [1.00000000e+00, 5.50394216e-01, 3.02933794e-01],\n",
       "       [1.00000000e+00, 2.71957755e-01, 7.39610208e-02],\n",
       "       [1.00000000e+00, 6.99418069e-01, 4.89185636e-01],\n",
       "       [1.00000000e+00, 7.23136769e-01, 5.22926787e-01],\n",
       "       [1.00000000e+00, 9.88751561e-01, 9.77629650e-01],\n",
       "       [1.00000000e+00, 6.59881045e-01, 4.35442994e-01],\n",
       "       [1.00000000e+00, 7.67044350e-01, 5.88357035e-01],\n",
       "       [1.00000000e+00, 2.58573916e-01, 6.68604701e-02],\n",
       "       [1.00000000e+00, 4.73403177e-01, 2.24110568e-01],\n",
       "       [1.00000000e+00, 8.43606824e-01, 7.11672473e-01],\n",
       "       [1.00000000e+00, 8.73985232e-01, 7.63850186e-01],\n",
       "       [1.00000000e+00, 2.21340582e-01, 4.89916535e-02],\n",
       "       [1.00000000e+00, 5.37307157e-01, 2.88698981e-01],\n",
       "       [1.00000000e+00, 4.17122497e-01, 1.73991178e-01],\n",
       "       [1.00000000e+00, 7.06161835e-01, 4.98664537e-01]])"
      ]
     },
     "execution_count": 40,
     "metadata": {},
     "output_type": "execute_result"
    }
   ],
   "source": [
    "# a0 * 1 + a1 * x + a2 * x^2 = y\n",
    "N = 100\n",
    "# x, y = np.random.rand(N), np.random.rand(N)\n",
    "x = np.random.rand(N)  # Number of random values generated between 0-1\n",
    "y = 14 + (9 * x) + (76 * x**2) + np.random.randn(N) * 0.01  # quadratic equation with added noise\n",
    "A = make_vandermonde(x)\n",
    "# a = np.linalg.solve(A, y)\n",
    "a = np.linalg.pinv(A) @ y\n",
    "np.linalg.norm(A @ a - y) / N\n",
    "A"
   ]
  },
  {
   "cell_type": "code",
   "execution_count": 41,
   "metadata": {},
   "outputs": [],
   "source": [
    "def f(x: float, c: T.Iterable, noise: float = 1) -> float:\n",
    "    return c[0] + (c[1] * x) + (c[2] * x**2) + np.random.randn(len(x)) * noise  # quadratic equation with added noise"
   ]
  },
  {
   "cell_type": "code",
   "execution_count": 42,
   "metadata": {},
   "outputs": [
    {
     "name": "stdout",
     "output_type": "stream",
     "text": [
      "-50.0\n"
     ]
    },
    {
     "ename": "TypeError",
     "evalue": "object of type 'numpy.float64' has no len()",
     "output_type": "error",
     "traceback": [
      "\u001b[0;31m---------------------------------------------------------------------------\u001b[0m",
      "\u001b[0;31mTypeError\u001b[0m                                 Traceback (most recent call last)",
      "\u001b[1;32m/Users/evan/Documents/local_projects/caustics/regression.ipynb Cell 7\u001b[0m line \u001b[0;36m5\n\u001b[1;32m      <a href='vscode-notebook-cell:/Users/evan/Documents/local_projects/caustics/regression.ipynb#W6sZmlsZQ%3D%3D?line=2'>3</a>\u001b[0m \u001b[39mprint\u001b[39m(domain[\u001b[39m0\u001b[39m])\n\u001b[1;32m      <a href='vscode-notebook-cell:/Users/evan/Documents/local_projects/caustics/regression.ipynb#W6sZmlsZQ%3D%3D?line=3'>4</a>\u001b[0m \u001b[39mfor\u001b[39;00m i \u001b[39min\u001b[39;00m \u001b[39mrange\u001b[39m(\u001b[39mlen\u001b[39m(domain)):\n\u001b[0;32m----> <a href='vscode-notebook-cell:/Users/evan/Documents/local_projects/caustics/regression.ipynb#W6sZmlsZQ%3D%3D?line=4'>5</a>\u001b[0m     ax\u001b[39m.\u001b[39mscatter(domain[i], f(domain[i], (\u001b[39m1\u001b[39;49m, \u001b[39m1\u001b[39;49m, \u001b[39m1\u001b[39;49m), \u001b[39m50\u001b[39;49m), s \u001b[39m=\u001b[39m \u001b[39m0.8\u001b[39m)\n\u001b[1;32m      <a href='vscode-notebook-cell:/Users/evan/Documents/local_projects/caustics/regression.ipynb#W6sZmlsZQ%3D%3D?line=5'>6</a>\u001b[0m \u001b[39m# ax.set_ylim(0, 1000)\u001b[39;00m\n\u001b[1;32m      <a href='vscode-notebook-cell:/Users/evan/Documents/local_projects/caustics/regression.ipynb#W6sZmlsZQ%3D%3D?line=6'>7</a>\u001b[0m plt\u001b[39m.\u001b[39mshow()\n",
      "\u001b[1;32m/Users/evan/Documents/local_projects/caustics/regression.ipynb Cell 7\u001b[0m line \u001b[0;36m2\n\u001b[1;32m      <a href='vscode-notebook-cell:/Users/evan/Documents/local_projects/caustics/regression.ipynb#W6sZmlsZQ%3D%3D?line=0'>1</a>\u001b[0m \u001b[39mdef\u001b[39;00m \u001b[39mf\u001b[39m(x: \u001b[39mfloat\u001b[39m, c: T\u001b[39m.\u001b[39mIterable, noise: \u001b[39mfloat\u001b[39m \u001b[39m=\u001b[39m \u001b[39m1\u001b[39m) \u001b[39m-\u001b[39m\u001b[39m>\u001b[39m \u001b[39mfloat\u001b[39m:\n\u001b[0;32m----> <a href='vscode-notebook-cell:/Users/evan/Documents/local_projects/caustics/regression.ipynb#W6sZmlsZQ%3D%3D?line=1'>2</a>\u001b[0m     \u001b[39mreturn\u001b[39;00m c[\u001b[39m0\u001b[39m] \u001b[39m+\u001b[39m (c[\u001b[39m1\u001b[39m] \u001b[39m*\u001b[39m x) \u001b[39m+\u001b[39m (c[\u001b[39m2\u001b[39m] \u001b[39m*\u001b[39m x\u001b[39m*\u001b[39m\u001b[39m*\u001b[39m\u001b[39m2\u001b[39m) \u001b[39m+\u001b[39m np\u001b[39m.\u001b[39mrandom\u001b[39m.\u001b[39mrandn(\u001b[39mlen\u001b[39;49m(x)) \u001b[39m*\u001b[39m noise\n",
      "\u001b[0;31mTypeError\u001b[0m: object of type 'numpy.float64' has no len()"
     ]
    },
    {
     "data": {
      "image/png": "[encoded data removed]",
      "text/plain": [
       "<Figure size 640x480 with 1 Axes>"
      ]
     },
     "metadata": {},
     "output_type": "display_data"
    }
   ],
   "source": [
    "domain = np.linspace(-50, 50, 500)\n",
    "fig, ax = plt.subplots()\n",
    "print(domain[0])\n",
    "for i in range(len(domain)):\n",
    "    ax.scatter(domain[i], f(domain[i], (1, 1, 1), 50), s = 0.8)\n",
    "# ax.set_ylim(0, 1000)\n",
    "plt.show()"
   ]
  },
  {
   "cell_type": "code",
   "execution_count": 43,
   "metadata": {},
   "outputs": [
    {
     "name": "stdout",
     "output_type": "stream",
     "text": [
      "[ -1.0762092   26.85020875 -28.21012131]\n",
      "[ -4.35480718  40.76702425 -23.03391999]\n",
      "[-4.56128668 -9.97308589 40.25386356]\n",
      "[20.712179754836306, 24.71858380935987, 16.26274537460129]\n",
      "20.564502979599155\n"
     ]
    },
    {
     "data": {
      "image/png": "[encoded data removed]",
      "text/plain": [
       "<Figure size 640x480 with 1 Axes>"
      ]
     },
     "metadata": {},
     "output_type": "display_data"
    }
   ],
   "source": [
    "coeffs = (0, 6, 12)\n",
    "xs = (0,1,2)\n",
    "avg = []\n",
    "N = 3\n",
    "plt.scatter((0,1,2), coeffs, c = \"r\")\n",
    "for i in range(3):  # each is an experiment\n",
    "    diff = []  # coefficient error in this experiment\n",
    "    x = np.random.rand(N)  # Number of random values generated between 0-1\n",
    "    _y = f(x, coeffs, noise = 2)\n",
    "    A = make_vandermonde(x)  # construct system of linear equations\n",
    "    a = np.linalg.pinv(A) @ _y  # solves set of linear equations\n",
    "    # print(np.linalg.norm(A @ a - _y) / N)  # avg error in function fit\n",
    "    print(a)\n",
    "    for i in range(3):  # calculate error for each coefficient\n",
    "        plt.scatter(xs[i], a[i], c = \"k\", s = 0.5)\n",
    "        diff.append(np.abs(coeffs[i] - a[i]))\n",
    "    # print(diff)\n",
    "    avg.append(np.mean(diff))  # average error per experiment\n",
    "print(avg)\n",
    "print(np.mean(avg))\n",
    "plt.show()\n"
   ]
  },
  {
   "cell_type": "code",
   "execution_count": 44,
   "metadata": {},
   "outputs": [
    {
     "name": "stdout",
     "output_type": "stream",
     "text": [
      "[-0.03075273  6.07717369 11.97672384]\n",
      "[0.04373419226915557]\n",
      "0.04373419226915557\n"
     ]
    },
    {
     "data": {
      "image/png": "[encoded data removed]",
      "text/plain": [
       "<Figure size 640x480 with 1 Axes>"
      ]
     },
     "metadata": {},
     "output_type": "display_data"
    }
   ],
   "source": [
    "coeffs = (0, 6, 12)\n",
    "xs = (0,1,2)\n",
    "avg = []\n",
    "N = 150\n",
    "diff = []  # coefficient error in this experiment\n",
    "x = np.random.rand(N)  # Number of random values generated between 0-1\n",
    "_y = f(x, coeffs, noise = .1)\n",
    "A = make_vandermonde(x)  # construct system of linear equations\n",
    "a = np.linalg.pinv(A) @ _y  # solves set of linear equations\n",
    "# print(np.linalg.norm(A @ a - _y) / N)  # avg error in function fit\n",
    "plt.scatter(x, A @ a, c = \"k\", s = 1)\n",
    "plt.scatter(x, _y, c = \"r\", s = 1)\n",
    "print(a)\n",
    "for i in range(3):  # calculate error for each coefficient\n",
    "    diff.append(np.abs(coeffs[i] - a[i]))\n",
    "# print(diff)\n",
    "avg.append(np.mean(diff))  # average error per experiment\n",
    "print(avg)\n",
    "print(np.mean(avg))\n",
    "plt.show()"
   ]
  },
  {
   "cell_type": "markdown",
   "metadata": {},
   "source": [
    "Data that looks like a sine function\n",
    "\n",
    "try fitting quadratic to that\n",
    "\n",
    "make vandermonde can take any order approximations"
   ]
  },
  {
   "cell_type": "code",
   "execution_count": 45,
   "metadata": {},
   "outputs": [],
   "source": [
    "def make_better_vandermonde(x, order: int):\n",
    "    N = len(x)\n",
    "    A = np.ones([N, order])  # Make a matrix with N number of rows and 3 columns\n",
    "    for i in range(order):\n",
    "        A[:,i] = x ** i\n",
    "    # A[:,1] = x  # Second column is coefficients of x\n",
    "    # A[:,2] = x ** 2\n",
    "    return A"
   ]
  },
  {
   "cell_type": "code",
   "execution_count": 46,
   "metadata": {},
   "outputs": [],
   "source": [
    "h = np.random.rand(100)\n",
    "# make_better_vandermonde(h, 4)"
   ]
  },
  {
   "cell_type": "code",
   "execution_count": 47,
   "metadata": {},
   "outputs": [],
   "source": [
    "def g(x, noise: float):\n",
    "    return np.sin(np.pi * x) + np.random.randn(len(x)) * noise"
   ]
  },
  {
   "cell_type": "code",
   "execution_count": 54,
   "metadata": {},
   "outputs": [
    {
     "name": "stdout",
     "output_type": "stream",
     "text": [
      "0.0\n"
     ]
    },
    {
     "data": {
      "image/png": "[encoded data removed]",
      "text/plain": [
       "<Figure size 640x480 with 1 Axes>"
      ]
     },
     "metadata": {},
     "output_type": "display_data"
    },
    {
     "data": {
      "text/plain": [
       "array([-0.01595886,  1.0014561 ,  0.09634014])"
      ]
     },
     "execution_count": 54,
     "metadata": {},
     "output_type": "execute_result"
    }
   ],
   "source": [
    "domain = np.linspace(0, 1, 500)\n",
    "N= 1000\n",
    "x = (np.random.rand(N) *2 -1) # Number of random values generated between 0-1\n",
    "fig, ax = plt.subplots()\n",
    "print(domain[0])\n",
    "# for i in range(len(domain)):\n",
    "#     ax.scatter(domain[i], g(domain[i], 0.1), s = 0.8, c = 'k', alpha = 0.25)\n",
    "y_ = f(x, (0, 0, 2),.1)\n",
    "_y = g(x, .1)\n",
    "\n",
    "# yplot = g(domain, 0)\n",
    "A = make_better_vandermonde(x, 3)  # construct system of linear equations\n",
    "a = np.linalg.pinv(A) @ _y  # solves set of linear equations\n",
    "plt.scatter(x, _y, c = \"g\", s = 1)\n",
    "plt.scatter(x, A @ a, c = \"b\", s = 1) # prediction\n",
    "# plt.plot(domain, yplot, c = \"r\")\n",
    "# ax.set_ylim(-1.3, 1.3)\n",
    "# ax.set_xlim(0, 1)\n",
    "plt.show()\n",
    "a"
   ]
  },
  {
   "cell_type": "markdown",
   "metadata": {},
   "source": [
    "pick a function to another function of specified order, measure error, and keep measuring as order increases to create a graph\n",
    "x: order, y: error\n",
    "\n",
    "A@a is y_pred. compute np.linalg.norm(y_pred - _y) for each order"
   ]
  },
  {
   "cell_type": "code",
   "execution_count": 69,
   "metadata": {},
   "outputs": [
    {
     "data": {
      "image/png": "[encoded data removed]",
      "text/plain": [
       "<Figure size 640x480 with 1 Axes>"
      ]
     },
     "metadata": {},
     "output_type": "display_data"
    }
   ],
   "source": [
    "num_orders = 10\n",
    "\n",
    "_y = g(x, .1)\n",
    "for i in range(num_orders):\n",
    "    A = make_better_vandermonde(x, i)  # construct system of linear equations\n",
    "    a = np.linalg.pinv(A) @ _y\n",
    "    error = np.mean(abs(_y - A @ a))\n",
    "    plt.scatter(i, error)\n",
    "plt.yscale(\"log\")\n",
    "plt.title(\"Number of Orders vs Error\")\n",
    "plt.show()\n"
   ]
  }
 ],
 "metadata": {
  "kernelspec": {
   "display_name": "projects",
   "language": "python",
   "name": "projects"
  },
  "language_info": {
   "codemirror_mode": {
    "name": "ipython",
    "version": 3
   },
   "file_extension": ".py",
   "mimetype": "text/x-python",
   "name": "python",
   "nbconvert_exporter": "python",
   "pygments_lexer": "ipython3",
   "version": "3.11.7"
  }
 },
 "nbformat": 4,
 "nbformat_minor": 2
}
